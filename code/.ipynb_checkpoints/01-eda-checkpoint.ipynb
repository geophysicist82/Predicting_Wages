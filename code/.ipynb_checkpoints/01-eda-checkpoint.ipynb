{
 "cells": [
  {
   "cell_type": "code",
   "execution_count": 166,
   "metadata": {},
   "outputs": [],
   "source": [
    "%run code/helper_functions.ipynb"
   ]
  },
  {
   "cell_type": "code",
   "execution_count": 144,
   "metadata": {},
   "outputs": [],
   "source": [
    "df = pd.read_csv(\"data/large_train_sample.csv\")"
   ]
  },
  {
   "cell_type": "code",
   "execution_count": 145,
   "metadata": {},
   "outputs": [],
   "source": [
    "cont_vars = ['education-num', 'age', 'hours-per-week', 'capital-gain', 'capital-loss', 'fnlwgt']"
   ]
  },
  {
   "cell_type": "code",
   "execution_count": 146,
   "metadata": {},
   "outputs": [],
   "source": [
    "df['wage'] = df['wage'].apply(lambda a: int(a==' >50K'))"
   ]
  },
  {
   "cell_type": "code",
   "execution_count": 147,
   "metadata": {},
   "outputs": [
    {
     "data": {
      "text/plain": [
       "marital-status\n",
       " Married-civ-spouse       0.446848\n",
       " Married-AF-spouse        0.434783\n",
       " Divorced                 0.104209\n",
       " Widowed                  0.085599\n",
       " Married-spouse-absent    0.081340\n",
       " Separated                0.064390\n",
       " Never-married            0.045961\n",
       "Name: wage, dtype: float64"
      ]
     },
     "execution_count": 147,
     "metadata": {},
     "output_type": "execute_result"
    }
   ],
   "source": [
    "df.groupby(by=\"marital-status\").mean()['wage'].sort_values(ascending=False)"
   ]
  },
  {
   "cell_type": "code",
   "execution_count": 148,
   "metadata": {},
   "outputs": [
    {
     "data": {
      "text/plain": [
       "occupation\n",
       " Prof-specialty       4140\n",
       " Craft-repair         4099\n",
       " Exec-managerial      4066\n",
       " Adm-clerical         3770\n",
       " Sales                3650\n",
       " Other-service        3295\n",
       " Machine-op-inspct    2002\n",
       " ?                    1843\n",
       " Transport-moving     1597\n",
       " Handlers-cleaners    1370\n",
       " Farming-fishing       994\n",
       " Tech-support          928\n",
       " Protective-serv       649\n",
       " Priv-house-serv       149\n",
       " Armed-Forces            9\n",
       "Name: wage, dtype: int64"
      ]
     },
     "execution_count": 148,
     "metadata": {},
     "output_type": "execute_result"
    }
   ],
   "source": [
    "df.groupby(by=\"occupation\").count()['wage'].sort_values(ascending=False)"
   ]
  },
  {
   "cell_type": "code",
   "execution_count": 149,
   "metadata": {},
   "outputs": [
    {
     "data": {
      "text/plain": [
       "education\n",
       " HS-grad         10501\n",
       " Some-college     7291\n",
       " Bachelors        5355\n",
       " Masters          1723\n",
       " Assoc-voc        1382\n",
       " 11th             1175\n",
       " Assoc-acdm       1067\n",
       " 10th              933\n",
       " 7th-8th           646\n",
       " Prof-school       576\n",
       " 9th               514\n",
       " 12th              433\n",
       " Doctorate         413\n",
       " 5th-6th           333\n",
       " 1st-4th           168\n",
       " Preschool          51\n",
       "Name: wage, dtype: int64"
      ]
     },
     "execution_count": 149,
     "metadata": {},
     "output_type": "execute_result"
    }
   ],
   "source": [
    "df.groupby(by=\"education\").count()['wage'].sort_values(ascending=False)"
   ]
  },
  {
   "cell_type": "code",
   "execution_count": 150,
   "metadata": {},
   "outputs": [
    {
     "data": {
      "text/plain": [
       "education\n",
       " HS-grad         10501\n",
       " Some-college     7291\n",
       " Bachelors        5355\n",
       " Masters          1723\n",
       " Assoc-voc        1382\n",
       " 11th             1175\n",
       " Assoc-acdm       1067\n",
       " 10th              933\n",
       " 7th-8th           646\n",
       " Prof-school       576\n",
       " 9th               514\n",
       " 12th              433\n",
       " Doctorate         413\n",
       " 5th-6th           333\n",
       " 1st-4th           168\n",
       " Preschool          51\n",
       "Name: wage, dtype: int64"
      ]
     },
     "execution_count": 150,
     "metadata": {},
     "output_type": "execute_result"
    }
   ],
   "source": [
    "df.groupby(by=\"education\").count()['wage'].sort_values(ascending=False)"
   ]
  },
  {
   "cell_type": "code",
   "execution_count": 151,
   "metadata": {},
   "outputs": [],
   "source": [
    "df['is_usa'] = df['native-country'].apply(lambda a: int(a==' United-States'))\n",
    "cont_vars.append(\"is_usa\")\n",
    "\n",
    "df[\"is_top7_occ\"] = df[\"occupation\"].apply(lambda a: int(a==' Exec-managerial'\n",
    "                                                       or a==' Prof-specialty'\n",
    "                                                       or a==' Protective-serv'\n",
    "                                                       or a==' Tech-support'\n",
    "                                                       or a==' Sales'\n",
    "                                                       or a==' Craft-repair'\n",
    "                                                       or a==' Transport-moving'))\n",
    "cont_vars.append(\"is_top7_occ\")\n",
    "\n",
    "\n",
    "df['is_top4_occ'] = df[\"occupation\"].apply(lambda a: int(a==' Exec-managerial'\n",
    "                                                       or a==' Prof-specialty'\n",
    "                                                       or a==' Protective-serv'\n",
    "                                                       or a==' Tech-support'))\n",
    "cont_vars.append(\"is_top4_occ\")\n",
    "\n",
    "df[\"is_top2_occ\"] = df[\"occupation\"].apply(lambda a: int(a==' Exec-managerial'\n",
    "                                                       or a==' Prof-specialty'))\n",
    "cont_vars.append(\"is_top2_occ\")\n",
    "\n",
    "df[\"is_married\"] = df[\"marital-status\"].apply(lambda a: int(a==' Married-civ-spouse' or a==' Married-AF-spouse'))\n",
    "cont_vars.append('is_married')\n",
    "\n",
    "df[\"is_male\"] = df[\"sex\"].apply(lambda a: int(a==' Male'))\n",
    "cont_vars.append('is_male')\n",
    "\n",
    "df[\"is_high_ed\"] = df[\"education\"].apply(lambda a: int(a==' Doctorate'\n",
    "                                                       or a==' Prof-school'\n",
    "                                                       or a==' Bachelors'\n",
    "                                                       or a==' Masters'))\n",
    "cont_vars.append('is_high_ed')\n",
    "\n",
    "\n",
    "df['is_doct_or_prof'] = df[\"education\"].apply(lambda a: int(a==' Doctorate'\n",
    "                                                            or a==' Prof-school'))\n",
    "cont_vars.append('is_doct_or_prof')\n",
    "\n",
    "df[\"is_hs_grad\"] = df[\"education\"].apply(lambda a: int(a==' Doctorate'\n",
    "                                                       or a==' Prof-school'\n",
    "                                                       or a==' Bachelors'\n",
    "                                                       or a==' Masters'\n",
    "                                                       or a==' Assoc-voc'\n",
    "                                                       or a==' Assoc-acdm'\n",
    "                                                       or a==' Some-college'\n",
    "                                                       or a==' HS-grad'\n",
    "                                                      ))\n",
    "cont_vars.append('is_hs_grad')\n",
    "\n",
    "df[\"is_high_ed\"] = df[\"education\"].apply(lambda a: int(a==' Doctorate'\n",
    "                                                       or a==' Prof-school'\n",
    "                                                       or a==' Bachelors'\n",
    "                                                       or a==' Masters'))\n",
    "cont_vars.append('is_high_ed')\n",
    "\n",
    "\n",
    "df['is_doct_or_prof'] = df[\"education\"].apply(lambda a: int(a==' Doctorate'\n",
    "                                                            or a==' Prof-school'))\n",
    "cont_vars.append('is_doct_or_prof')\n",
    "\n",
    "df[\"is_hs_grad\"] = df[\"education\"].apply(lambda a: int(a==' Doctorate'\n",
    "                                                       or a==' Prof-school'\n",
    "                                                       or a==' Bachelors'\n",
    "                                                       or a==' Masters'\n",
    "                                                       or a==' Assoc-voc'\n",
    "                                                       or a==' Assoc-acdm'\n",
    "                                                       or a==' Some-college'\n",
    "                                                       or a==' HS-grad'\n",
    "                                                      ))\n",
    "cont_vars.append('is_hs_grad')"
   ]
  },
  {
   "cell_type": "code",
   "execution_count": 152,
   "metadata": {},
   "outputs": [],
   "source": [
    "df.to_csv(\"data/train_CLEAN.csv\",index=False)"
   ]
  },
  {
   "cell_type": "code",
   "execution_count": 167,
   "metadata": {},
   "outputs": [],
   "source": [
    "# get_interacting_corr_heatmap(df, cont_vars, \"wage\", degree=1);"
   ]
  },
  {
   "cell_type": "code",
   "execution_count": 168,
   "metadata": {},
   "outputs": [],
   "source": [
    "# get_interacting_corr_heatmap(df, cont_vars, \"wage\", degree=2);"
   ]
  }
 ],
 "metadata": {
  "kernelspec": {
   "display_name": "Python 3",
   "language": "python",
   "name": "python3"
  },
  "language_info": {
   "codemirror_mode": {
    "name": "ipython",
    "version": 3
   },
   "file_extension": ".py",
   "mimetype": "text/x-python",
   "name": "python",
   "nbconvert_exporter": "python",
   "pygments_lexer": "ipython3",
   "version": "3.7.6"
  }
 },
 "nbformat": 4,
 "nbformat_minor": 4
}
