{
 "cells": [
  {
   "cell_type": "code",
   "execution_count": null,
   "metadata": {},
   "outputs": [],
   "source": [
    "import pandas as pd\n",
    "import numpy as np\n",
    "import matplotlib.pyplot as plt\n",
    "import seaborn as sns\n",
    "from sklearn.model_selection import train_test_split, cross_val_score, GridSearchCV\n",
    "from sklearn.preprocessing import StandardScaler, PolynomialFeatures\n",
    "from sklearn.linear_model import LogisticRegression\n",
    "from sklearn.pipeline import Pipeline\n",
    "from sklearn.tree import DecisionTreeClassifier\n",
    "from sklearn.ensemble import AdaBoostClassifier, BaggingClassifier, RandomForestClassifier\n",
    "from sklearn.neighbors import KNeighborsClassifier\n",
    "from sklearn.svm import SVC\n",
    "from sklearn.metrics import mean_squared_error, plot_confusion_matrix"
   ]
  },
  {
   "cell_type": "code",
   "execution_count": 4,
   "metadata": {},
   "outputs": [],
   "source": [
    "def display_corr_heatmap(df,target,title_prefix=\"\",save=False):\n",
    "    '''EDA helper function. Takes dataframe and\n",
    "    target column to compare correlation values \n",
    "    against. Displays heatmap with option to save\n",
    "    as file and augment figure title.'''\n",
    "    corr = df.corr()\n",
    "    plt.figure(figsize=(16,9))\n",
    "    corr_hmap = sns.heatmap(corr[[target]].sort_values(by=target,\n",
    "                                                       ascending=False),\n",
    "                            vmin=-1,\n",
    "                            vmax=1,\n",
    "                            annot= True,\n",
    "                            cmap='icefire');\n",
    "    title_name = title_prefix+'Features Correlation with '+target\n",
    "    plt.title(title_name,size=20)\n",
    "    if save:\n",
    "        fname = \"\".join(title_name.split())\n",
    "        plt.savefig(fname+\".png\")"
   ]
  },
  {
   "cell_type": "code",
   "execution_count": null,
   "metadata": {},
   "outputs": [],
   "source": [
    "def get_interacting_corr_heatmap(df, features, target, degree=1):\n",
    "    df_cont = df[features]\n",
    "    target_col = df[target]\n",
    "\n",
    "    poly = PolynomialFeatures(degree=degree)\n",
    "    df_cont_poly = poly.fit_transform(df_cont)\n",
    "\n",
    "    # Code for turning a polynomial transformed ndarray back...\n",
    "    #...into a dataframe adapted from StackOverFlow post linked below\n",
    "    #https://stackoverflow.com/questions/36728287/sklearn-preprocessing\n",
    "    #-polynomialfeatures-how-to-keep-column-names-headers-of\n",
    "    df_poly = pd.DataFrame(df_cont_poly, columns = poly.get_feature_names(cont_vars))\n",
    "\n",
    "    df_poly[target] = target_col\n",
    "\n",
    "    display_corr_heatmap(df_poly, target=target, title_prefix=\"Polynomial \", save=False)"
   ]
  },
  {
   "cell_type": "code",
   "execution_count": 2,
   "metadata": {},
   "outputs": [],
   "source": [
    "def get_accuracy(model, model_string, X_train, X_test, y_train, y_test):\n",
    "    model.fit(X_train, y_train)\n",
    "    train = model.score(X_train, y_train)\n",
    "    test = model.score(X_test, y_test)\n",
    "    print(model_string+\":\")\n",
    "    print(f\"Train: {train}\")\n",
    "    print(f\"Test: {test}\\n\")"
   ]
  },
  {
   "cell_type": "code",
   "execution_count": 3,
   "metadata": {},
   "outputs": [],
   "source": [
    "# Code adapted from Patrick Wales-Dinan's demonstration on saving GridSearches\n",
    "\n",
    "class GridSearchContainer:\n",
    "    def __init__(self, X, y):\n",
    "        self.X_train, self.X_test, self.y_train, self.y_test = train_test_split(X, y,\n",
    "                                                                                random_state=42,\n",
    "                                                                                stratify = y)\n",
    "        self.model_params = {}\n",
    "        self.best_models = []\n",
    "        self.model_df = pd.DataFrame\n",
    "        self.count = 0\n",
    "        \n",
    "    def search(self, estimator, params, mod_name='model', evaluator='accuracy'):\n",
    "        \n",
    "            gs = GridSearchCV(estimator,\n",
    "                  param_grid = params,\n",
    "                  cv = 5,\n",
    "                  scoring = evaluator)\n",
    "    \n",
    "            gs.fit(self.X_train, self.y_train)\n",
    "\n",
    "            print(f\"Train {evaluator}: {gs.score(self.X_train, self.y_train)}\")\n",
    "            print(f\"Test {evaluator}: {gs.score(self.X_test, self.y_test)}\")\n",
    "\n",
    "            gs.best_params_[evaluator] = gs.best_score_\n",
    "                \n",
    "            self.model_params[f'{mod_name}_{self.count}'] = gs.best_params_\n",
    "\n",
    "            self.model_df = pd.DataFrame.from_dict(self.model_params, orient='index')\n",
    "            self.model_df.sort_values(by=evaluator, ascending=False, inplace=True)\n",
    "\n",
    "            self.best_models.append((gs.best_estimator_, gs.best_score_))\n",
    "            \n",
    "            self.count+=1"
   ]
  },
  {
   "cell_type": "code",
   "execution_count": null,
   "metadata": {},
   "outputs": [],
   "source": []
  }
 ],
 "metadata": {
  "kernelspec": {
   "display_name": "Python 3",
   "language": "python",
   "name": "python3"
  },
  "language_info": {
   "codemirror_mode": {
    "name": "ipython",
    "version": 3
   },
   "file_extension": ".py",
   "mimetype": "text/x-python",
   "name": "python",
   "nbconvert_exporter": "python",
   "pygments_lexer": "ipython3",
   "version": "3.7.6"
  }
 },
 "nbformat": 4,
 "nbformat_minor": 4
}
